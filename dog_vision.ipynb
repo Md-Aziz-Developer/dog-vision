{
  "nbformat": 4,
  "nbformat_minor": 0,
  "metadata": {
    "colab": {
      "provenance": [],
      "gpuType": "T4",
      "mount_file_id": "17NOa5ByJscZBIvuoervvreoRCxBXhCDx",
      "authorship_tag": "ABX9TyOl2i/jfWU8XaA1+OrNWzRe",
      "include_colab_link": true
    },
    "kernelspec": {
      "name": "python3",
      "display_name": "Python 3"
    },
    "language_info": {
      "name": "python"
    },
    "accelerator": "GPU"
  },
  "cells": [
    {
      "cell_type": "markdown",
      "metadata": {
        "id": "view-in-github",
        "colab_type": "text"
      },
      "source": [
        "<a href=\"https://colab.research.google.com/github/Md-Aziz-Developer/dog-vision/blob/main/dog_vision.ipynb\" target=\"_parent\"><img src=\"https://colab.research.google.com/assets/colab-badge.svg\" alt=\"Open In Colab\"/></a>"
      ]
    },
    {
      "cell_type": "code",
      "source": [],
      "metadata": {
        "id": "43ka99ijTmOH"
      },
      "execution_count": null,
      "outputs": []
    },
    {
      "cell_type": "markdown",
      "source": [
        "# End to end  multi-class Dog Breed Classification\n",
        "\n",
        "This notebook builds an end-to-end multi-class image classifier using TensorFlow 2.0 and TensorFlow Hub.\n",
        "\n",
        "## 1. Problem\n",
        "\n",
        "Identifying the breed of a dog given an image of a dog.\n",
        "\n",
        "When I.m sitting at the cafe and I take a photo of a dog, I want to knwo what breed fo dog it is.\n",
        "\n",
        "## 2. Data\n",
        "\n",
        "The data we're using is from Kaggle-s dog breed identification competition.\n",
        "\n",
        "https://www.kaggle.com/c/dog-breed-identification/data\n",
        "\n",
        "## 3. Evaluation\n",
        "\n",
        "The evaluation is a file with prediction for each dog breed of each test image.\n",
        "\n",
        "www.kaggle.com/competitions/dog-breed-identification/overview/evaluation\n",
        "\n",
        "## 4. Features\n",
        "\n",
        "Some information about the data:\n",
        "* We're dealing with images (Unstructured data) so it's probably best we use deed learning/transfer learning.\n",
        "* There are 120 breeds of dogs (this means there are 120 different classes).\n",
        "* There are around 10,000 + images in the traning set (these images have labels).\n",
        "* There are around 10,000 + images in the test set (these images have no labels, because we'll want to predict them)."
      ],
      "metadata": {
        "id": "y8My2-V9Tyf7"
      }
    },
    {
      "cell_type": "code",
      "execution_count": null,
      "metadata": {
        "id": "xF7StVoIQ4BS"
      },
      "outputs": [],
      "source": [
        "# Unzip the Uploaded data into Google Drive\n",
        "#!unzip \"drive/MyDrive/Dog Vision/dog-breed-identification.zip\" -d \"drive/MyDrive/Dog Vision/\""
      ]
    },
    {
      "cell_type": "markdown",
      "source": [
        "### Get our workspace ready\n",
        "\n",
        "* Import TensorFlow 2.x\n",
        "* Import TensotFlow Hub\n",
        "* Make sure we're using a GPU"
      ],
      "metadata": {
        "id": "PlCrL3cpXMYL"
      }
    },
    {
      "cell_type": "code",
      "source": [
        "# Import necessary tools\n",
        "import tensorflow as tf\n",
        "import tensorflow_hub as hub\n",
        "print(\"TF version: \",tf.__version__)\n",
        "print(\"TF Hubb versionL \",hub.__version__)\n",
        "\n",
        "# Check for GPU availablilty\n",
        "print(\"GPU\",\"available (YESSSS!!!!!)\" if tf.config.list_physical_devices(\"GPU\") else \"Not available :(\")"
      ],
      "metadata": {
        "colab": {
          "base_uri": "https://localhost:8080/"
        },
        "id": "yJV28MJwWybe",
        "outputId": "0e96cf35-fd55-44ee-907f-c42d3211edf5"
      },
      "execution_count": null,
      "outputs": [
        {
          "output_type": "stream",
          "name": "stdout",
          "text": [
            "TF version:  2.17.0\n",
            "TF Hubb versionL  0.16.1\n",
            "GPU available (YESSSS!!!!!)\n"
          ]
        }
      ]
    },
    {
      "cell_type": "code",
      "source": [],
      "metadata": {
        "id": "keOXU7R2XhNw"
      },
      "execution_count": null,
      "outputs": []
    }
  ]
}